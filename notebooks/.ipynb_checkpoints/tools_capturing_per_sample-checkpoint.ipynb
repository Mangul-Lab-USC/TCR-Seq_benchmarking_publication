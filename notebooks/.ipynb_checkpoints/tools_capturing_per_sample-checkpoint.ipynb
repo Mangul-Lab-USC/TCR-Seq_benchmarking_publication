{
 "cells": [
  {
   "cell_type": "code",
   "execution_count": 1,
   "metadata": {},
   "outputs": [],
   "source": [
    "import pandas as pd\n",
    "import glob\n",
    "import os\n",
    "import numpy as np\n",
    "import warnings\n",
    "warnings.simplefilter('ignore')"
   ]
  },
  {
   "cell_type": "code",
   "execution_count": 2,
   "metadata": {},
   "outputs": [
    {
     "data": {
      "text/html": [
       "<div>\n",
       "<style scoped>\n",
       "    .dataframe tbody tr th:only-of-type {\n",
       "        vertical-align: middle;\n",
       "    }\n",
       "\n",
       "    .dataframe tbody tr th {\n",
       "        vertical-align: top;\n",
       "    }\n",
       "\n",
       "    .dataframe thead th {\n",
       "        text-align: right;\n",
       "    }\n",
       "</style>\n",
       "<table border=\"1\" class=\"dataframe\">\n",
       "  <thead>\n",
       "    <tr style=\"text-align: right;\">\n",
       "      <th></th>\n",
       "      <th>Sample</th>\n",
       "      <th>CDR3</th>\n",
       "      <th>nReads_TCR</th>\n",
       "      <th>nReads_MIXCR</th>\n",
       "      <th>nReads_IMREP</th>\n",
       "      <th>nReads_TRUST4</th>\n",
       "      <th>tissue</th>\n",
       "      <th>tissue_type</th>\n",
       "      <th>total_reads_TCR</th>\n",
       "      <th>total_reads_MIXCR</th>\n",
       "      <th>total_reads_IMREP</th>\n",
       "      <th>total_reads_TRUST4</th>\n",
       "      <th>frequency_TCR</th>\n",
       "      <th>frequency_MIXCR</th>\n",
       "      <th>frequency_IMREP</th>\n",
       "      <th>frequency_TRUST4</th>\n",
       "      <th>repertoire_type</th>\n",
       "      <th>class</th>\n",
       "    </tr>\n",
       "  </thead>\n",
       "  <tbody>\n",
       "    <tr>\n",
       "      <td>0</td>\n",
       "      <td>SRR5233637</td>\n",
       "      <td>CASSLPKETQYF</td>\n",
       "      <td>11.0</td>\n",
       "      <td>0.0</td>\n",
       "      <td>0.0</td>\n",
       "      <td>0.0</td>\n",
       "      <td>small_intestine</td>\n",
       "      <td>T_cell_poor</td>\n",
       "      <td>3047629.0</td>\n",
       "      <td>84.0</td>\n",
       "      <td>315.0</td>\n",
       "      <td>544.0</td>\n",
       "      <td>0.000004</td>\n",
       "      <td>0.0</td>\n",
       "      <td>0.0</td>\n",
       "      <td>0.000000</td>\n",
       "      <td>polyclonal</td>\n",
       "      <td>T_cell_poor_polyclonal</td>\n",
       "    </tr>\n",
       "    <tr>\n",
       "      <td>1</td>\n",
       "      <td>SRR5233637</td>\n",
       "      <td>CASLGRHYNEQFF</td>\n",
       "      <td>1097.0</td>\n",
       "      <td>0.0</td>\n",
       "      <td>0.0</td>\n",
       "      <td>0.0</td>\n",
       "      <td>small_intestine</td>\n",
       "      <td>T_cell_poor</td>\n",
       "      <td>3047629.0</td>\n",
       "      <td>84.0</td>\n",
       "      <td>315.0</td>\n",
       "      <td>544.0</td>\n",
       "      <td>0.000360</td>\n",
       "      <td>0.0</td>\n",
       "      <td>0.0</td>\n",
       "      <td>0.000000</td>\n",
       "      <td>polyclonal</td>\n",
       "      <td>T_cell_poor_polyclonal</td>\n",
       "    </tr>\n",
       "    <tr>\n",
       "      <td>2</td>\n",
       "      <td>SRR5233637</td>\n",
       "      <td>CASTQAAGTEKLFF</td>\n",
       "      <td>42.0</td>\n",
       "      <td>0.0</td>\n",
       "      <td>0.0</td>\n",
       "      <td>0.0</td>\n",
       "      <td>small_intestine</td>\n",
       "      <td>T_cell_poor</td>\n",
       "      <td>3047629.0</td>\n",
       "      <td>84.0</td>\n",
       "      <td>315.0</td>\n",
       "      <td>544.0</td>\n",
       "      <td>0.000014</td>\n",
       "      <td>0.0</td>\n",
       "      <td>0.0</td>\n",
       "      <td>0.000000</td>\n",
       "      <td>polyclonal</td>\n",
       "      <td>T_cell_poor_polyclonal</td>\n",
       "    </tr>\n",
       "    <tr>\n",
       "      <td>3</td>\n",
       "      <td>SRR5233637</td>\n",
       "      <td>CASSVPRGDYEQYF</td>\n",
       "      <td>61.0</td>\n",
       "      <td>0.0</td>\n",
       "      <td>0.0</td>\n",
       "      <td>0.0</td>\n",
       "      <td>small_intestine</td>\n",
       "      <td>T_cell_poor</td>\n",
       "      <td>3047629.0</td>\n",
       "      <td>84.0</td>\n",
       "      <td>315.0</td>\n",
       "      <td>544.0</td>\n",
       "      <td>0.000020</td>\n",
       "      <td>0.0</td>\n",
       "      <td>0.0</td>\n",
       "      <td>0.000000</td>\n",
       "      <td>polyclonal</td>\n",
       "      <td>T_cell_poor_polyclonal</td>\n",
       "    </tr>\n",
       "    <tr>\n",
       "      <td>4</td>\n",
       "      <td>SRR5233637</td>\n",
       "      <td>CASTPLGAEGSPLHF</td>\n",
       "      <td>2994.0</td>\n",
       "      <td>0.0</td>\n",
       "      <td>0.0</td>\n",
       "      <td>0.0</td>\n",
       "      <td>small_intestine</td>\n",
       "      <td>T_cell_poor</td>\n",
       "      <td>3047629.0</td>\n",
       "      <td>84.0</td>\n",
       "      <td>315.0</td>\n",
       "      <td>544.0</td>\n",
       "      <td>0.000982</td>\n",
       "      <td>0.0</td>\n",
       "      <td>0.0</td>\n",
       "      <td>0.000000</td>\n",
       "      <td>polyclonal</td>\n",
       "      <td>T_cell_poor_polyclonal</td>\n",
       "    </tr>\n",
       "    <tr>\n",
       "      <td>...</td>\n",
       "      <td>...</td>\n",
       "      <td>...</td>\n",
       "      <td>...</td>\n",
       "      <td>...</td>\n",
       "      <td>...</td>\n",
       "      <td>...</td>\n",
       "      <td>...</td>\n",
       "      <td>...</td>\n",
       "      <td>...</td>\n",
       "      <td>...</td>\n",
       "      <td>...</td>\n",
       "      <td>...</td>\n",
       "      <td>...</td>\n",
       "      <td>...</td>\n",
       "      <td>...</td>\n",
       "      <td>...</td>\n",
       "      <td>...</td>\n",
       "      <td>...</td>\n",
       "    </tr>\n",
       "    <tr>\n",
       "      <td>389052</td>\n",
       "      <td>sample15</td>\n",
       "      <td>CASSLGGAGGYAF</td>\n",
       "      <td>0.0</td>\n",
       "      <td>0.0</td>\n",
       "      <td>0.0</td>\n",
       "      <td>2.0</td>\n",
       "      <td>melanoma</td>\n",
       "      <td>T_cell_poor</td>\n",
       "      <td>749686.0</td>\n",
       "      <td>113.0</td>\n",
       "      <td>152.0</td>\n",
       "      <td>351.0</td>\n",
       "      <td>0.000000</td>\n",
       "      <td>0.0</td>\n",
       "      <td>0.0</td>\n",
       "      <td>0.005698</td>\n",
       "      <td>polyclonal</td>\n",
       "      <td>T_cell_poor_polyclonal</td>\n",
       "    </tr>\n",
       "    <tr>\n",
       "      <td>389053</td>\n",
       "      <td>sample15</td>\n",
       "      <td>CASS?FGAGASGYTDTQYF</td>\n",
       "      <td>0.0</td>\n",
       "      <td>0.0</td>\n",
       "      <td>0.0</td>\n",
       "      <td>2.0</td>\n",
       "      <td>melanoma</td>\n",
       "      <td>T_cell_poor</td>\n",
       "      <td>749686.0</td>\n",
       "      <td>113.0</td>\n",
       "      <td>152.0</td>\n",
       "      <td>351.0</td>\n",
       "      <td>0.000000</td>\n",
       "      <td>0.0</td>\n",
       "      <td>0.0</td>\n",
       "      <td>0.005698</td>\n",
       "      <td>polyclonal</td>\n",
       "      <td>T_cell_poor_polyclonal</td>\n",
       "    </tr>\n",
       "    <tr>\n",
       "      <td>389054</td>\n",
       "      <td>sample15</td>\n",
       "      <td>CASSWTGSQETQYF</td>\n",
       "      <td>0.0</td>\n",
       "      <td>0.0</td>\n",
       "      <td>0.0</td>\n",
       "      <td>2.0</td>\n",
       "      <td>melanoma</td>\n",
       "      <td>T_cell_poor</td>\n",
       "      <td>749686.0</td>\n",
       "      <td>113.0</td>\n",
       "      <td>152.0</td>\n",
       "      <td>351.0</td>\n",
       "      <td>0.000000</td>\n",
       "      <td>0.0</td>\n",
       "      <td>0.0</td>\n",
       "      <td>0.005698</td>\n",
       "      <td>polyclonal</td>\n",
       "      <td>T_cell_poor_polyclonal</td>\n",
       "    </tr>\n",
       "    <tr>\n",
       "      <td>389055</td>\n",
       "      <td>sample15</td>\n",
       "      <td>CASSVEGYEQYF</td>\n",
       "      <td>0.0</td>\n",
       "      <td>0.0</td>\n",
       "      <td>0.0</td>\n",
       "      <td>2.0</td>\n",
       "      <td>melanoma</td>\n",
       "      <td>T_cell_poor</td>\n",
       "      <td>749686.0</td>\n",
       "      <td>113.0</td>\n",
       "      <td>152.0</td>\n",
       "      <td>351.0</td>\n",
       "      <td>0.000000</td>\n",
       "      <td>0.0</td>\n",
       "      <td>0.0</td>\n",
       "      <td>0.005698</td>\n",
       "      <td>polyclonal</td>\n",
       "      <td>T_cell_poor_polyclonal</td>\n",
       "    </tr>\n",
       "    <tr>\n",
       "      <td>389056</td>\n",
       "      <td>sample15</td>\n",
       "      <td>CASSESPAFGEKLFF</td>\n",
       "      <td>0.0</td>\n",
       "      <td>0.0</td>\n",
       "      <td>0.0</td>\n",
       "      <td>3.0</td>\n",
       "      <td>melanoma</td>\n",
       "      <td>T_cell_poor</td>\n",
       "      <td>749686.0</td>\n",
       "      <td>113.0</td>\n",
       "      <td>152.0</td>\n",
       "      <td>351.0</td>\n",
       "      <td>0.000000</td>\n",
       "      <td>0.0</td>\n",
       "      <td>0.0</td>\n",
       "      <td>0.008547</td>\n",
       "      <td>polyclonal</td>\n",
       "      <td>T_cell_poor_polyclonal</td>\n",
       "    </tr>\n",
       "  </tbody>\n",
       "</table>\n",
       "<p>389057 rows × 18 columns</p>\n",
       "</div>"
      ],
      "text/plain": [
       "            Sample                 CDR3  nReads_TCR  nReads_MIXCR  \\\n",
       "0       SRR5233637         CASSLPKETQYF        11.0           0.0   \n",
       "1       SRR5233637        CASLGRHYNEQFF      1097.0           0.0   \n",
       "2       SRR5233637       CASTQAAGTEKLFF        42.0           0.0   \n",
       "3       SRR5233637       CASSVPRGDYEQYF        61.0           0.0   \n",
       "4       SRR5233637      CASTPLGAEGSPLHF      2994.0           0.0   \n",
       "...            ...                  ...         ...           ...   \n",
       "389052    sample15        CASSLGGAGGYAF         0.0           0.0   \n",
       "389053    sample15  CASS?FGAGASGYTDTQYF         0.0           0.0   \n",
       "389054    sample15       CASSWTGSQETQYF         0.0           0.0   \n",
       "389055    sample15         CASSVEGYEQYF         0.0           0.0   \n",
       "389056    sample15      CASSESPAFGEKLFF         0.0           0.0   \n",
       "\n",
       "        nReads_IMREP  nReads_TRUST4           tissue  tissue_type  \\\n",
       "0                0.0            0.0  small_intestine  T_cell_poor   \n",
       "1                0.0            0.0  small_intestine  T_cell_poor   \n",
       "2                0.0            0.0  small_intestine  T_cell_poor   \n",
       "3                0.0            0.0  small_intestine  T_cell_poor   \n",
       "4                0.0            0.0  small_intestine  T_cell_poor   \n",
       "...              ...            ...              ...          ...   \n",
       "389052           0.0            2.0         melanoma  T_cell_poor   \n",
       "389053           0.0            2.0         melanoma  T_cell_poor   \n",
       "389054           0.0            2.0         melanoma  T_cell_poor   \n",
       "389055           0.0            2.0         melanoma  T_cell_poor   \n",
       "389056           0.0            3.0         melanoma  T_cell_poor   \n",
       "\n",
       "        total_reads_TCR  total_reads_MIXCR  total_reads_IMREP  \\\n",
       "0             3047629.0               84.0              315.0   \n",
       "1             3047629.0               84.0              315.0   \n",
       "2             3047629.0               84.0              315.0   \n",
       "3             3047629.0               84.0              315.0   \n",
       "4             3047629.0               84.0              315.0   \n",
       "...                 ...                ...                ...   \n",
       "389052         749686.0              113.0              152.0   \n",
       "389053         749686.0              113.0              152.0   \n",
       "389054         749686.0              113.0              152.0   \n",
       "389055         749686.0              113.0              152.0   \n",
       "389056         749686.0              113.0              152.0   \n",
       "\n",
       "        total_reads_TRUST4  frequency_TCR  frequency_MIXCR  frequency_IMREP  \\\n",
       "0                    544.0       0.000004              0.0              0.0   \n",
       "1                    544.0       0.000360              0.0              0.0   \n",
       "2                    544.0       0.000014              0.0              0.0   \n",
       "3                    544.0       0.000020              0.0              0.0   \n",
       "4                    544.0       0.000982              0.0              0.0   \n",
       "...                    ...            ...              ...              ...   \n",
       "389052               351.0       0.000000              0.0              0.0   \n",
       "389053               351.0       0.000000              0.0              0.0   \n",
       "389054               351.0       0.000000              0.0              0.0   \n",
       "389055               351.0       0.000000              0.0              0.0   \n",
       "389056               351.0       0.000000              0.0              0.0   \n",
       "\n",
       "        frequency_TRUST4 repertoire_type                   class  \n",
       "0               0.000000      polyclonal  T_cell_poor_polyclonal  \n",
       "1               0.000000      polyclonal  T_cell_poor_polyclonal  \n",
       "2               0.000000      polyclonal  T_cell_poor_polyclonal  \n",
       "3               0.000000      polyclonal  T_cell_poor_polyclonal  \n",
       "4               0.000000      polyclonal  T_cell_poor_polyclonal  \n",
       "...                  ...             ...                     ...  \n",
       "389052          0.005698      polyclonal  T_cell_poor_polyclonal  \n",
       "389053          0.005698      polyclonal  T_cell_poor_polyclonal  \n",
       "389054          0.005698      polyclonal  T_cell_poor_polyclonal  \n",
       "389055          0.005698      polyclonal  T_cell_poor_polyclonal  \n",
       "389056          0.008547      polyclonal  T_cell_poor_polyclonal  \n",
       "\n",
       "[389057 rows x 18 columns]"
      ]
     },
     "execution_count": 2,
     "metadata": {},
     "output_type": "execute_result"
    }
   ],
   "source": [
    "data = pd.read_csv('../summary_data/original/all_tools_TRB.csv')\n",
    "data"
   ]
  },
  {
   "cell_type": "code",
   "execution_count": 3,
   "metadata": {},
   "outputs": [],
   "source": [
    "def compute_frequency(samples_data, tool, discard_zero_freq_samples):\n",
    "\n",
    "    samples = set(samples_data['Sample'])\n",
    "    \n",
    "    type_observed = tool\n",
    "    \n",
    "    data = samples_data.rename(columns={'frequency_TCR': 'frequency_truth'})\n",
    "    data = data.rename(columns={'frequency_'+type_observed: 'frequency_observed'})\n",
    "    data = data.rename(columns={'nReads_TCR': 'count_truth'})\n",
    "    data = data.rename(columns={'nReads_'+type_observed: 'count_observed'})\n",
    "    \n",
    "    data = data.loc[data['frequency_truth'] > 0] #excluding clonotypes not present in ground truth\n",
    "\n",
    "    file = open('../summary_data/original/capturing_per_sample/capturing_'+type_observed+'.csv',\"w\")\n",
    "        \n",
    "    file.write(\"th,observed_portion_frequency\\n\")\n",
    "    \n",
    "    data_per_sample = {}\n",
    "\n",
    "    for s in samples:\n",
    "        \n",
    "        data_per_sample[s] = data.loc[data['Sample'] == s, ['frequency_truth','frequency_observed','count_truth','count_observed']]\n",
    "\n",
    "    for th in np.linspace(0., 1.0, 100000):\n",
    "\n",
    "        s_portions = []\n",
    "\n",
    "        for s in samples: \n",
    "\n",
    "            k_observed=0\n",
    "            k_true=0\n",
    "\n",
    "            s_observed=0\n",
    "            s_true=0\n",
    "\n",
    "            sample_data = data_per_sample[s]\n",
    "            sample_data = sample_data.loc[sample_data['frequency_truth'] >= th]\n",
    "            \n",
    "            for index, cdr in sample_data.iterrows():\n",
    "\n",
    "                freq = cdr['frequency_truth']\n",
    "                \n",
    "                if cdr['frequency_observed'] > 0: #check if observed sample has the clonotype\n",
    "                        \n",
    "                    k_observed += 1.0    #number of clonotypes with frequency greater or equal than th\n",
    "                    s_observed += freq   #sum of frequencies of observed greater or equal than th\n",
    "                        \n",
    "                k_true += 1.0 #number of clonotypes with frequency greater or equal than th\n",
    "                s_true += freq #sum of frequencies of TCR greater or equal than th\n",
    "\n",
    "            if s_true > 0:\n",
    "                s_portions.append(s_observed/s_true)\n",
    "            elif discard_zero_freq_samples is False:\n",
    "                s_portions.append(0.)\n",
    "\n",
    "        file.write(str(th)+\",\"+str(np.mean(s_portions))+\"\\n\")\n",
    "\n",
    "    file.close()\n",
    "    print('done '+tool)"
   ]
  },
  {
   "cell_type": "markdown",
   "metadata": {},
   "source": [
    "Discarding samples with no clonotypes from truth to compute the average portion"
   ]
  },
  {
   "cell_type": "code",
   "execution_count": 4,
   "metadata": {},
   "outputs": [
    {
     "name": "stdout",
     "output_type": "stream",
     "text": [
      "done MIXCR\n",
      "done IMREP\n",
      "done TRUST4\n"
     ]
    }
   ],
   "source": [
    "# sample01\n",
    "\n",
    "sample1 = data.loc[data['Sample'] == 'sample01']\n",
    "\n",
    "tools = ['MIXCR', 'IMREP', 'TRUST4']\n",
    "\n",
    "for tool in tools:\n",
    "\n",
    "    compute_frequency(sample1, tool, True)"
   ]
  },
  {
   "cell_type": "code",
   "execution_count": 5,
   "metadata": {},
   "outputs": [
    {
     "name": "stdout",
     "output_type": "stream",
     "text": [
      "done MIXCR\n",
      "done IMREP\n",
      "done TRUST4\n"
     ]
    }
   ],
   "source": [
    "# sample02\n",
    "\n",
    "sample2 = data.loc[data['Sample'] == 'sample02']\n",
    "\n",
    "tools = ['MIXCR', 'IMREP', 'TRUST4']\n",
    "\n",
    "for tool in tools:\n",
    "\n",
    "    compute_frequency(sample2, tool, True)"
   ]
  },
  {
   "cell_type": "code",
   "execution_count": 6,
   "metadata": {},
   "outputs": [
    {
     "name": "stdout",
     "output_type": "stream",
     "text": [
      "done MIXCR\n",
      "done IMREP\n",
      "done TRUST4\n"
     ]
    }
   ],
   "source": [
    "# sample03\n",
    "\n",
    "sample3 = data.loc[data['Sample'] == 'sample03']\n",
    "\n",
    "tools = ['MIXCR', 'IMREP', 'TRUST4']\n",
    "\n",
    "for tool in tools:\n",
    "\n",
    "    compute_frequency(sample3, tool, True)"
   ]
  },
  {
   "cell_type": "code",
   "execution_count": 7,
   "metadata": {},
   "outputs": [
    {
     "name": "stdout",
     "output_type": "stream",
     "text": [
      "done MIXCR\n",
      "done IMREP\n",
      "done TRUST4\n"
     ]
    }
   ],
   "source": [
    "# sample04\n",
    "\n",
    "sample4 = data.loc[data['Sample'] == 'sample04']\n",
    "\n",
    "tools = ['MIXCR', 'IMREP', 'TRUST4']\n",
    "\n",
    "for tool in tools:\n",
    "\n",
    "    compute_frequency(sample4, tool, True)"
   ]
  },
  {
   "cell_type": "code",
   "execution_count": 8,
   "metadata": {},
   "outputs": [
    {
     "name": "stdout",
     "output_type": "stream",
     "text": [
      "done MIXCR\n",
      "done IMREP\n",
      "done TRUST4\n"
     ]
    }
   ],
   "source": [
    "# sample05\n",
    "\n",
    "sample5 = data.loc[data['Sample'] == 'sample05']\n",
    "\n",
    "tools = ['MIXCR', 'IMREP', 'TRUST4']\n",
    "\n",
    "for tool in tools:\n",
    "\n",
    "    compute_frequency(sample5, tool, True)"
   ]
  },
  {
   "cell_type": "code",
   "execution_count": 9,
   "metadata": {},
   "outputs": [
    {
     "name": "stdout",
     "output_type": "stream",
     "text": [
      "done MIXCR\n",
      "done IMREP\n",
      "done TRUST4\n"
     ]
    }
   ],
   "source": [
    "# sample06\n",
    "\n",
    "sample6 = data.loc[data['Sample'] == 'sample06']\n",
    "\n",
    "tools = ['MIXCR', 'IMREP', 'TRUST4']\n",
    "\n",
    "for tool in tools:\n",
    "\n",
    "    compute_frequency(sample6, tool, True)"
   ]
  },
  {
   "cell_type": "code",
   "execution_count": 10,
   "metadata": {},
   "outputs": [
    {
     "name": "stdout",
     "output_type": "stream",
     "text": [
      "done MIXCR\n",
      "done IMREP\n",
      "done TRUST4\n"
     ]
    }
   ],
   "source": [
    "# sample07\n",
    "\n",
    "sample7 = data.loc[data['Sample'] == 'sample07']\n",
    "\n",
    "tools = ['MIXCR', 'IMREP', 'TRUST4']\n",
    "\n",
    "for tool in tools:\n",
    "\n",
    "    compute_frequency(sample7, tool, True)"
   ]
  },
  {
   "cell_type": "code",
   "execution_count": 11,
   "metadata": {},
   "outputs": [
    {
     "name": "stdout",
     "output_type": "stream",
     "text": [
      "done MIXCR\n",
      "done IMREP\n",
      "done TRUST4\n"
     ]
    }
   ],
   "source": [
    "# sample08\n",
    "\n",
    "sample8 = data.loc[data['Sample'] == 'sample08']\n",
    "\n",
    "tools = ['MIXCR', 'IMREP', 'TRUST4']\n",
    "\n",
    "for tool in tools:\n",
    "\n",
    "    compute_frequency(sample8, tool, True)"
   ]
  },
  {
   "cell_type": "code",
   "execution_count": 12,
   "metadata": {},
   "outputs": [
    {
     "name": "stdout",
     "output_type": "stream",
     "text": [
      "done MIXCR\n",
      "done IMREP\n",
      "done TRUST4\n"
     ]
    }
   ],
   "source": [
    "# sample09\n",
    "\n",
    "sample9 = data.loc[data['Sample'] == 'sample09']\n",
    "\n",
    "tools = ['MIXCR', 'IMREP', 'TRUST4']\n",
    "\n",
    "for tool in tools:\n",
    "\n",
    "    compute_frequency(sample9, tool, True)"
   ]
  },
  {
   "cell_type": "code",
   "execution_count": 13,
   "metadata": {},
   "outputs": [
    {
     "name": "stdout",
     "output_type": "stream",
     "text": [
      "done MIXCR\n",
      "done IMREP\n",
      "done TRUST4\n"
     ]
    }
   ],
   "source": [
    "# sample10\n",
    "\n",
    "sample10 = data.loc[data['Sample'] == 'sample10']\n",
    "\n",
    "tools = ['MIXCR', 'IMREP', 'TRUST4']\n",
    "\n",
    "for tool in tools:\n",
    "\n",
    "    compute_frequency(sample10, tool, True)"
   ]
  },
  {
   "cell_type": "code",
   "execution_count": 14,
   "metadata": {},
   "outputs": [
    {
     "name": "stdout",
     "output_type": "stream",
     "text": [
      "done MIXCR\n",
      "done IMREP\n",
      "done TRUST4\n"
     ]
    }
   ],
   "source": [
    "# sample11\n",
    "\n",
    "sample11 = data.loc[data['Sample'] == 'sample11']\n",
    "\n",
    "tools = ['MIXCR', 'IMREP', 'TRUST4']\n",
    "\n",
    "for tool in tools:\n",
    "\n",
    "    compute_frequency(sample11, tool, True)"
   ]
  },
  {
   "cell_type": "code",
   "execution_count": 15,
   "metadata": {},
   "outputs": [
    {
     "name": "stdout",
     "output_type": "stream",
     "text": [
      "done MIXCR\n",
      "done IMREP\n",
      "done TRUST4\n"
     ]
    }
   ],
   "source": [
    "# sample12\n",
    "\n",
    "sample12 = data.loc[data['Sample'] == 'sample12']\n",
    "\n",
    "tools = ['MIXCR', 'IMREP', 'TRUST4']\n",
    "\n",
    "for tool in tools:\n",
    "\n",
    "    compute_frequency(sample12, tool, True)"
   ]
  },
  {
   "cell_type": "code",
   "execution_count": 16,
   "metadata": {},
   "outputs": [
    {
     "name": "stdout",
     "output_type": "stream",
     "text": [
      "done MIXCR\n",
      "done IMREP\n",
      "done TRUST4\n"
     ]
    }
   ],
   "source": [
    "# sample13\n",
    "\n",
    "sample13 = data.loc[data['Sample'] == 'sample13']\n",
    "\n",
    "tools = ['MIXCR', 'IMREP', 'TRUST4']\n",
    "\n",
    "for tool in tools:\n",
    "\n",
    "    compute_frequency(sample13, tool, True)"
   ]
  },
  {
   "cell_type": "code",
   "execution_count": 17,
   "metadata": {},
   "outputs": [
    {
     "name": "stdout",
     "output_type": "stream",
     "text": [
      "done MIXCR\n",
      "done IMREP\n",
      "done TRUST4\n"
     ]
    }
   ],
   "source": [
    "# sample14\n",
    "\n",
    "sample14 = data.loc[data['Sample'] == 'sample14']\n",
    "\n",
    "tools = ['MIXCR', 'IMREP', 'TRUST4']\n",
    "\n",
    "for tool in tools:\n",
    "\n",
    "    compute_frequency(sample14, tool, True)"
   ]
  },
  {
   "cell_type": "code",
   "execution_count": 18,
   "metadata": {},
   "outputs": [
    {
     "name": "stdout",
     "output_type": "stream",
     "text": [
      "done MIXCR\n",
      "done IMREP\n",
      "done TRUST4\n"
     ]
    }
   ],
   "source": [
    "# sample15\n",
    "\n",
    "sample15 = data.loc[data['Sample'] == 'sample15']\n",
    "\n",
    "tools = ['MIXCR', 'IMREP', 'TRUST4']\n",
    "\n",
    "for tool in tools:\n",
    "\n",
    "    compute_frequency(sample15, tool, True)"
   ]
  },
  {
   "cell_type": "code",
   "execution_count": 19,
   "metadata": {},
   "outputs": [
    {
     "name": "stdout",
     "output_type": "stream",
     "text": [
      "done MIXCR\n",
      "done IMREP\n",
      "done TRUST4\n"
     ]
    }
   ],
   "source": [
    "# SRR5233639\n",
    "\n",
    "sample16 = data.loc[data['Sample'] == 'SRR5233639']\n",
    "\n",
    "tools = ['MIXCR', 'IMREP', 'TRUST4']\n",
    "\n",
    "for tool in tools:\n",
    "\n",
    "    compute_frequency(sample16, tool, True)"
   ]
  },
  {
   "cell_type": "code",
   "execution_count": 20,
   "metadata": {},
   "outputs": [
    {
     "name": "stdout",
     "output_type": "stream",
     "text": [
      "done MIXCR\n",
      "done IMREP\n",
      "done TRUST4\n"
     ]
    }
   ],
   "source": [
    "# SRR5233637\n",
    "\n",
    "sample17 = data.loc[data['Sample'] == 'SRR5233637']\n",
    "\n",
    "tools = ['MIXCR', 'IMREP', 'TRUST4']\n",
    "\n",
    "for tool in tools:\n",
    "\n",
    "    compute_frequency(sample17, tool, True)"
   ]
  },
  {
   "cell_type": "code",
   "execution_count": 21,
   "metadata": {},
   "outputs": [
    {
     "name": "stdout",
     "output_type": "stream",
     "text": [
      "done MIXCR\n",
      "done IMREP\n",
      "done TRUST4\n"
     ]
    }
   ],
   "source": [
    "# TCGA-CZ-4862\n",
    "\n",
    "sample18 = data.loc[data['Sample'] == 'TCGA-CZ-4862']\n",
    "\n",
    "tools = ['MIXCR', 'IMREP', 'TRUST4']\n",
    "\n",
    "for tool in tools:\n",
    "\n",
    "    compute_frequency(sample18, tool, True)"
   ]
  },
  {
   "cell_type": "code",
   "execution_count": 22,
   "metadata": {},
   "outputs": [
    {
     "name": "stdout",
     "output_type": "stream",
     "text": [
      "done MIXCR\n",
      "done IMREP\n",
      "done TRUST4\n"
     ]
    }
   ],
   "source": [
    "# TCGA-CZ-5463\n",
    "\n",
    "sample19 = data.loc[data['Sample'] == 'TCGA-CZ-5463']\n",
    "\n",
    "tools = ['MIXCR', 'IMREP', 'TRUST4']\n",
    "\n",
    "for tool in tools:\n",
    "\n",
    "    compute_frequency(sample19, tool, True)"
   ]
  },
  {
   "cell_type": "code",
   "execution_count": 23,
   "metadata": {},
   "outputs": [
    {
     "name": "stdout",
     "output_type": "stream",
     "text": [
      "done MIXCR\n",
      "done IMREP\n",
      "done TRUST4\n"
     ]
    }
   ],
   "source": [
    "# TCGA-CZ-5985\n",
    "\n",
    "sample20 = data.loc[data['Sample'] == 'TCGA-CZ-5985']\n",
    "\n",
    "tools = ['MIXCR', 'IMREP', 'TRUST4']\n",
    "\n",
    "for tool in tools:\n",
    "\n",
    "    compute_frequency(sample20, tool, True)"
   ]
  },
  {
   "cell_type": "code",
   "execution_count": null,
   "metadata": {},
   "outputs": [],
   "source": []
  }
 ],
 "metadata": {
  "kernelspec": {
   "display_name": "Python 3",
   "language": "python",
   "name": "python3"
  },
  "language_info": {
   "codemirror_mode": {
    "name": "ipython",
    "version": 3
   },
   "file_extension": ".py",
   "mimetype": "text/x-python",
   "name": "python",
   "nbconvert_exporter": "python",
   "pygments_lexer": "ipython3",
   "version": "3.7.4"
  }
 },
 "nbformat": 4,
 "nbformat_minor": 2
}
