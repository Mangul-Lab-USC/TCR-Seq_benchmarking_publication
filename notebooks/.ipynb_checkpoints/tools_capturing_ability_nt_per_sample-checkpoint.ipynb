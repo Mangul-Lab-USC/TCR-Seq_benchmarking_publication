{
 "cells": [
  {
   "cell_type": "code",
   "execution_count": 1,
   "metadata": {},
   "outputs": [],
   "source": [
    "import pandas as pd\n",
    "import glob\n",
    "import os\n",
    "import numpy as np\n",
    "import seaborn as sns\n",
    "import matplotlib.pyplot as plt\n",
    "import warnings\n",
    "warnings.simplefilter('ignore')\n",
    "warnings.filterwarnings(\"ignore\", module=\"matplotlib\")"
   ]
  },
  {
   "cell_type": "code",
   "execution_count": 2,
   "metadata": {},
   "outputs": [
    {
     "data": {
      "text/html": [
       "<div>\n",
       "<style scoped>\n",
       "    .dataframe tbody tr th:only-of-type {\n",
       "        vertical-align: middle;\n",
       "    }\n",
       "\n",
       "    .dataframe tbody tr th {\n",
       "        vertical-align: top;\n",
       "    }\n",
       "\n",
       "    .dataframe thead th {\n",
       "        text-align: right;\n",
       "    }\n",
       "</style>\n",
       "<table border=\"1\" class=\"dataframe\">\n",
       "  <thead>\n",
       "    <tr style=\"text-align: right;\">\n",
       "      <th></th>\n",
       "      <th>sample</th>\n",
       "      <th>nucleotide_TCR</th>\n",
       "      <th>frequency_MIXCR</th>\n",
       "      <th>frequency_TCR</th>\n",
       "      <th>frequency_TRUST4</th>\n",
       "      <th>tissue</th>\n",
       "      <th>class</th>\n",
       "    </tr>\n",
       "  </thead>\n",
       "  <tbody>\n",
       "    <tr>\n",
       "      <td>0</td>\n",
       "      <td>CMT-baseline1C_CAGATC</td>\n",
       "      <td>ACAGTGACCAGTGCCCATCCTGAAGACAGCAGCTTCTACATCTGCA...</td>\n",
       "      <td>0.000016</td>\n",
       "      <td>0.000051</td>\n",
       "      <td>0.001273</td>\n",
       "      <td>melanoma</td>\n",
       "      <td>T_cell_poor_polyclonal</td>\n",
       "    </tr>\n",
       "    <tr>\n",
       "      <td>1</td>\n",
       "      <td>CMT-baseline1C_CAGATC</td>\n",
       "      <td>GTGAGCACCTTGGAGCTGGGGGACTCGGCCCTTTATCTTTGCGCCA...</td>\n",
       "      <td>0.000016</td>\n",
       "      <td>0.000028</td>\n",
       "      <td>0.000849</td>\n",
       "      <td>melanoma</td>\n",
       "      <td>T_cell_poor_polyclonal</td>\n",
       "    </tr>\n",
       "    <tr>\n",
       "      <td>2</td>\n",
       "      <td>CMT-baseline1C_CAGATC</td>\n",
       "      <td>CACGCCCTGCAGCCAGAAGACTCAGCCCTGTATCTCTGCGCCAGCA...</td>\n",
       "      <td>0.000016</td>\n",
       "      <td>0.000582</td>\n",
       "      <td>0.002121</td>\n",
       "      <td>melanoma</td>\n",
       "      <td>T_cell_poor_polyclonal</td>\n",
       "    </tr>\n",
       "    <tr>\n",
       "      <td>3</td>\n",
       "      <td>CMT-baseline1C_CAGATC</td>\n",
       "      <td>TTGGAGATCCAGCGCACAGAGCAGGGGGACTCGGCCATGTATCTCT...</td>\n",
       "      <td>0.000024</td>\n",
       "      <td>0.001122</td>\n",
       "      <td>0.002121</td>\n",
       "      <td>melanoma</td>\n",
       "      <td>T_cell_poor_polyclonal</td>\n",
       "    </tr>\n",
       "    <tr>\n",
       "      <td>4</td>\n",
       "      <td>CMT-baseline1C_CAGATC</td>\n",
       "      <td>CTCAGGCTGCTGTCGGCTGCTCCCTCCCAGACATCTGTGTACTTCT...</td>\n",
       "      <td>0.000024</td>\n",
       "      <td>0.002540</td>\n",
       "      <td>0.000000</td>\n",
       "      <td>melanoma</td>\n",
       "      <td>T_cell_poor_polyclonal</td>\n",
       "    </tr>\n",
       "    <tr>\n",
       "      <td>...</td>\n",
       "      <td>...</td>\n",
       "      <td>...</td>\n",
       "      <td>...</td>\n",
       "      <td>...</td>\n",
       "      <td>...</td>\n",
       "      <td>...</td>\n",
       "      <td>...</td>\n",
       "    </tr>\n",
       "    <tr>\n",
       "      <td>379485</td>\n",
       "      <td>TR2-PBMC_S12</td>\n",
       "      <td>TTTCCCCTGACCCTGGAGTCTGCCAGGCCCTCACATACCTCTCAGT...</td>\n",
       "      <td>0.000000</td>\n",
       "      <td>0.000021</td>\n",
       "      <td>0.000000</td>\n",
       "      <td>PBMC</td>\n",
       "      <td>T_cell_rich_polyclonal</td>\n",
       "    </tr>\n",
       "    <tr>\n",
       "      <td>379486</td>\n",
       "      <td>TR2-PBMC_S12</td>\n",
       "      <td>TTTCCTCTCACTGTGACATCGGCCCAAAAGAACCCGACAGCTTTCT...</td>\n",
       "      <td>0.000000</td>\n",
       "      <td>0.000021</td>\n",
       "      <td>0.000000</td>\n",
       "      <td>PBMC</td>\n",
       "      <td>T_cell_rich_polyclonal</td>\n",
       "    </tr>\n",
       "    <tr>\n",
       "      <td>379487</td>\n",
       "      <td>TR2-PBMC_S12</td>\n",
       "      <td>TTTCCTCTCACTGTGACATCGGCCCAAAAGAACCCGACAGCTTTCT...</td>\n",
       "      <td>0.000000</td>\n",
       "      <td>0.000021</td>\n",
       "      <td>0.000000</td>\n",
       "      <td>PBMC</td>\n",
       "      <td>T_cell_rich_polyclonal</td>\n",
       "    </tr>\n",
       "    <tr>\n",
       "      <td>379488</td>\n",
       "      <td>TR2-PBMC_S12</td>\n",
       "      <td>TTTCCTCTCACTGTGACATCGGCCCAAAAGAACCCGACAGCTTTCT...</td>\n",
       "      <td>0.000000</td>\n",
       "      <td>0.000021</td>\n",
       "      <td>0.000000</td>\n",
       "      <td>PBMC</td>\n",
       "      <td>T_cell_rich_polyclonal</td>\n",
       "    </tr>\n",
       "    <tr>\n",
       "      <td>379489</td>\n",
       "      <td>TR2-PBMC_S12</td>\n",
       "      <td>TTTCCTCTCACTGTGACATCGGCCCAAAAGAACCCGACAGCTTTCT...</td>\n",
       "      <td>0.000000</td>\n",
       "      <td>0.000021</td>\n",
       "      <td>0.000000</td>\n",
       "      <td>PBMC</td>\n",
       "      <td>T_cell_rich_polyclonal</td>\n",
       "    </tr>\n",
       "  </tbody>\n",
       "</table>\n",
       "<p>379490 rows × 7 columns</p>\n",
       "</div>"
      ],
      "text/plain": [
       "                       sample  \\\n",
       "0       CMT-baseline1C_CAGATC   \n",
       "1       CMT-baseline1C_CAGATC   \n",
       "2       CMT-baseline1C_CAGATC   \n",
       "3       CMT-baseline1C_CAGATC   \n",
       "4       CMT-baseline1C_CAGATC   \n",
       "...                       ...   \n",
       "379485           TR2-PBMC_S12   \n",
       "379486           TR2-PBMC_S12   \n",
       "379487           TR2-PBMC_S12   \n",
       "379488           TR2-PBMC_S12   \n",
       "379489           TR2-PBMC_S12   \n",
       "\n",
       "                                           nucleotide_TCR  frequency_MIXCR  \\\n",
       "0       ACAGTGACCAGTGCCCATCCTGAAGACAGCAGCTTCTACATCTGCA...         0.000016   \n",
       "1       GTGAGCACCTTGGAGCTGGGGGACTCGGCCCTTTATCTTTGCGCCA...         0.000016   \n",
       "2       CACGCCCTGCAGCCAGAAGACTCAGCCCTGTATCTCTGCGCCAGCA...         0.000016   \n",
       "3       TTGGAGATCCAGCGCACAGAGCAGGGGGACTCGGCCATGTATCTCT...         0.000024   \n",
       "4       CTCAGGCTGCTGTCGGCTGCTCCCTCCCAGACATCTGTGTACTTCT...         0.000024   \n",
       "...                                                   ...              ...   \n",
       "379485  TTTCCCCTGACCCTGGAGTCTGCCAGGCCCTCACATACCTCTCAGT...         0.000000   \n",
       "379486  TTTCCTCTCACTGTGACATCGGCCCAAAAGAACCCGACAGCTTTCT...         0.000000   \n",
       "379487  TTTCCTCTCACTGTGACATCGGCCCAAAAGAACCCGACAGCTTTCT...         0.000000   \n",
       "379488  TTTCCTCTCACTGTGACATCGGCCCAAAAGAACCCGACAGCTTTCT...         0.000000   \n",
       "379489  TTTCCTCTCACTGTGACATCGGCCCAAAAGAACCCGACAGCTTTCT...         0.000000   \n",
       "\n",
       "        frequency_TCR  frequency_TRUST4    tissue                   class  \n",
       "0            0.000051          0.001273  melanoma  T_cell_poor_polyclonal  \n",
       "1            0.000028          0.000849  melanoma  T_cell_poor_polyclonal  \n",
       "2            0.000582          0.002121  melanoma  T_cell_poor_polyclonal  \n",
       "3            0.001122          0.002121  melanoma  T_cell_poor_polyclonal  \n",
       "4            0.002540          0.000000  melanoma  T_cell_poor_polyclonal  \n",
       "...               ...               ...       ...                     ...  \n",
       "379485       0.000021          0.000000      PBMC  T_cell_rich_polyclonal  \n",
       "379486       0.000021          0.000000      PBMC  T_cell_rich_polyclonal  \n",
       "379487       0.000021          0.000000      PBMC  T_cell_rich_polyclonal  \n",
       "379488       0.000021          0.000000      PBMC  T_cell_rich_polyclonal  \n",
       "379489       0.000021          0.000000      PBMC  T_cell_rich_polyclonal  \n",
       "\n",
       "[379490 rows x 7 columns]"
      ]
     },
     "execution_count": 2,
     "metadata": {},
     "output_type": "execute_result"
    }
   ],
   "source": [
    "data = pd.read_csv(\"../summary_data/original/all_tools_capturing_ability_nt.csv\")\n",
    "data"
   ]
  },
  {
   "cell_type": "code",
   "execution_count": 3,
   "metadata": {},
   "outputs": [],
   "source": [
    "def compute_frequency(samples_data, tool, discard_zero_freq_samples):\n",
    "\n",
    "    samples = set(samples_data['sample'])\n",
    "    \n",
    "    type_observed = tool\n",
    "    \n",
    "    data = samples_data.rename(columns={'frequency_TCR': 'frequency_truth'})\n",
    "    data = data.rename(columns={'frequency_'+type_observed: 'frequency_observed'})\n",
    "    \n",
    "    data = data.loc[data['frequency_truth'] > 0] #excluding clonotypes not present in ground truth\n",
    "\n",
    "    file = open('../summary_data/original/capturing_nt_ability/capturing_nt_ability_'+type_observed+'.csv',\"w\")\n",
    "        \n",
    "    file.write(\"th,observed_portion_frequency\\n\")\n",
    "    \n",
    "    data_per_sample = {}\n",
    "\n",
    "    for s in samples:\n",
    "        \n",
    "        data_per_sample[s] = data.loc[data['sample'] == s, ['frequency_truth','frequency_observed']]\n",
    "\n",
    "    for th in np.linspace(0., 1.0, 10000):\n",
    "\n",
    "        s_portions = []\n",
    "\n",
    "        for s in samples: \n",
    "\n",
    "            k_observed=0\n",
    "            k_true=0\n",
    "\n",
    "            s_observed=0\n",
    "            s_true=0\n",
    "\n",
    "            sample_data = data_per_sample[s]\n",
    "            sample_data = sample_data.loc[sample_data['frequency_truth'] >= th]\n",
    "            \n",
    "            for index, cdr in sample_data.iterrows():\n",
    "\n",
    "                freq = cdr['frequency_truth']\n",
    "                \n",
    "                if cdr['frequency_observed'] > 0: #check if observed sample has the clonotype\n",
    "                        \n",
    "                    k_observed += 1.0    #number of clonotypes with frequency greater or equal than th\n",
    "                    s_observed += freq   #sum of frequencies of observed greater or equal than th\n",
    "                        \n",
    "                k_true += 1.0 #number of clonotypes with frequency greater or equal than th\n",
    "                s_true += freq #sum of frequencies of TCR greater or equal than th\n",
    "\n",
    "            if s_true > 0:\n",
    "                s_portions.append(s_observed/s_true)\n",
    "            elif discard_zero_freq_samples is False:\n",
    "                s_portions.append(0.)\n",
    "\n",
    "        file.write(str(th)+\",\"+str(np.mean(s_portions))+\"\\n\")\n",
    "\n",
    "    file.close()\n",
    "    print('done '+tool)"
   ]
  },
  {
   "cell_type": "markdown",
   "metadata": {},
   "source": [
    "Discarding samples with no clonotypes from truth to compute the average portion"
   ]
  },
  {
   "cell_type": "code",
   "execution_count": 4,
   "metadata": {},
   "outputs": [
    {
     "name": "stdout",
     "output_type": "stream",
     "text": [
      "done MIXCR\n",
      "done TRUST4\n"
     ]
    }
   ],
   "source": [
    "# INY1-sorted-T-cells_S14_L007\n",
    "\n",
    "data1 = data.loc[data['sample'] == 'INY1-sorted-T-cells_S14_L007']\n",
    "\n",
    "tools = ['MIXCR','TRUST4']\n",
    "\n",
    "for tool in tools:\n",
    "\n",
    "    compute_frequency(data1, tool, True)"
   ]
  },
  {
   "cell_type": "code",
   "execution_count": 5,
   "metadata": {},
   "outputs": [
    {
     "name": "stdout",
     "output_type": "stream",
     "text": [
      "done MIXCR\n",
      "done TRUST4\n"
     ]
    }
   ],
   "source": [
    "# INY2-sorted-T-cells_S15_L007 \n",
    "\n",
    "data2 = data.loc[data['sample'] == 'INY2-sorted-T-cells_S15_L007']\n",
    "\n",
    "tools = ['MIXCR','TRUST4']\n",
    "\n",
    "for tool in tools:\n",
    "\n",
    "    compute_frequency(data2, tool, True)"
   ]
  },
  {
   "cell_type": "code",
   "execution_count": 6,
   "metadata": {},
   "outputs": [
    {
     "name": "stdout",
     "output_type": "stream",
     "text": [
      "done MIXCR\n",
      "done TRUST4\n"
     ]
    }
   ],
   "source": [
    "# ESO1-sorted-T-cells_S13_L007 \n",
    "\n",
    "data3 = data.loc[data['sample'] == 'ESO1-sorted-T-cells_S13_L007']\n",
    "\n",
    "for tool in tools:\n",
    "\n",
    "    compute_frequency(data3, tool, True)"
   ]
  },
  {
   "cell_type": "code",
   "execution_count": 7,
   "metadata": {},
   "outputs": [
    {
     "name": "stdout",
     "output_type": "stream",
     "text": [
      "done MIXCR\n",
      "done TRUST4\n"
     ]
    }
   ],
   "source": [
    "# SAR-11-14-12RNA_S1\n",
    "\n",
    "data4 = data.loc[data['sample'] == 'SAR-11-14-12RNA_S1']\n",
    "\n",
    "for tool in tools:\n",
    "\n",
    "    compute_frequency(data4, tool, True)"
   ]
  },
  {
   "cell_type": "code",
   "execution_count": 8,
   "metadata": {},
   "outputs": [
    {
     "name": "stdout",
     "output_type": "stream",
     "text": [
      "done MIXCR\n",
      "done TRUST4\n"
     ]
    }
   ],
   "source": [
    "# TR2-PBMC_S12\n",
    "\n",
    "data5 = data.loc[data['sample'] == 'TR2-PBMC_S12']\n",
    "\n",
    "for tool in tools:\n",
    "\n",
    "    compute_frequency(data5, tool, True)"
   ]
  },
  {
   "cell_type": "code",
   "execution_count": 9,
   "metadata": {},
   "outputs": [
    {
     "name": "stdout",
     "output_type": "stream",
     "text": [
      "done MIXCR\n",
      "done TRUST4\n"
     ]
    }
   ],
   "source": [
    "# SRR5233639\n",
    "\n",
    "data6 = data.loc[data['sample'] == 'SRR5233639']\n",
    "\n",
    "for tool in tools:\n",
    "\n",
    "    compute_frequency(data6, tool, True)"
   ]
  },
  {
   "cell_type": "code",
   "execution_count": 10,
   "metadata": {},
   "outputs": [
    {
     "name": "stdout",
     "output_type": "stream",
     "text": [
      "done MIXCR\n",
      "done TRUST4\n"
     ]
    }
   ],
   "source": [
    "# MP-11-28-12RNA_S2\n",
    "\n",
    "data7 = data.loc[data['sample'] == 'MP-11-28-12RNA_S2']\n",
    "\n",
    "for tool in tools:\n",
    "\n",
    "    compute_frequency(data7, tool, True)"
   ]
  },
  {
   "cell_type": "code",
   "execution_count": 11,
   "metadata": {},
   "outputs": [
    {
     "name": "stdout",
     "output_type": "stream",
     "text": [
      "done MIXCR\n",
      "done TRUST4\n"
     ]
    }
   ],
   "source": [
    "# CMT-baseline1C_CAGATC\n",
    "\n",
    "data8 = data.loc[data['sample'] == 'CMT-baseline1C_CAGATC']\n",
    "\n",
    "for tool in tools:\n",
    "\n",
    "    compute_frequency(data8, tool, True)"
   ]
  },
  {
   "cell_type": "code",
   "execution_count": 13,
   "metadata": {},
   "outputs": [
    {
     "name": "stdout",
     "output_type": "stream",
     "text": [
      "done MIXCR\n",
      "done TRUST4\n"
     ]
    }
   ],
   "source": [
    "# HM-baseline1C_CGATGT\n",
    "\n",
    "data9 = data.loc[data['sample'] == 'HM-baseline1C_CGATGT']\n",
    "\n",
    "for tool in tools:\n",
    "\n",
    "    compute_frequency(data9, tool, True)"
   ]
  },
  {
   "cell_type": "code",
   "execution_count": 14,
   "metadata": {},
   "outputs": [
    {
     "name": "stdout",
     "output_type": "stream",
     "text": [
      "done MIXCR\n",
      "done TRUST4\n"
     ]
    }
   ],
   "source": [
    "# JSSBaseline-RNA_GTGAAA\n",
    "\n",
    "data10 = data.loc[data['sample'] == 'JSSBaseline-RNA_GTGAAA']\n",
    "\n",
    "for tool in tools:\n",
    "\n",
    "    compute_frequency(data10, tool, True)"
   ]
  },
  {
   "cell_type": "code",
   "execution_count": 15,
   "metadata": {},
   "outputs": [
    {
     "name": "stdout",
     "output_type": "stream",
     "text": [
      "done MIXCR\n",
      "done TRUST4\n"
     ]
    }
   ],
   "source": [
    "# LEK-OT110712A_CCGTCC\n",
    "\n",
    "data11 = data.loc[data['sample'] == 'LEK-OT110712A_CCGTCC']\n",
    "\n",
    "for tool in tools:\n",
    "\n",
    "    compute_frequency(data11, tool, True)"
   ]
  },
  {
   "cell_type": "code",
   "execution_count": 16,
   "metadata": {},
   "outputs": [
    {
     "name": "stdout",
     "output_type": "stream",
     "text": [
      "done MIXCR\n",
      "done TRUST4\n"
     ]
    }
   ],
   "source": [
    "# LEK-baseline_CGATGT\n",
    "\n",
    "data12 = data.loc[data['sample'] == 'LEK-baseline_CGATGT']\n",
    "\n",
    "for tool in tools:\n",
    "\n",
    "    compute_frequency(data12, tool, True)"
   ]
  },
  {
   "cell_type": "code",
   "execution_count": 17,
   "metadata": {},
   "outputs": [
    {
     "name": "stdout",
     "output_type": "stream",
     "text": [
      "done MIXCR\n",
      "done TRUST4\n"
     ]
    }
   ],
   "source": [
    "# PT0112-B_S3\n",
    "\n",
    "data13 = data.loc[data['sample'] == 'PT0112-B_S3']\n",
    "\n",
    "for tool in tools:\n",
    "\n",
    "    compute_frequency(data13, tool, True)"
   ]
  },
  {
   "cell_type": "code",
   "execution_count": 18,
   "metadata": {},
   "outputs": [
    {
     "name": "stdout",
     "output_type": "stream",
     "text": [
      "done MIXCR\n",
      "done TRUST4\n"
     ]
    }
   ],
   "source": [
    "# PT0285-B_S5\n",
    "\n",
    "data14 = data.loc[data['sample'] == 'PT0285-B_S5']\n",
    "\n",
    "for tool in tools:\n",
    "\n",
    "    compute_frequency(data14, tool, True)"
   ]
  },
  {
   "cell_type": "code",
   "execution_count": 19,
   "metadata": {},
   "outputs": [
    {
     "name": "stdout",
     "output_type": "stream",
     "text": [
      "done MIXCR\n",
      "done TRUST4\n"
     ]
    }
   ],
   "source": [
    "# PT0310_S9\n",
    "\n",
    "data15 = data.loc[data['sample'] == 'PT0310_S9']\n",
    "\n",
    "for tool in tools:\n",
    "\n",
    "    compute_frequency(data15, tool, True)"
   ]
  },
  {
   "cell_type": "code",
   "execution_count": 20,
   "metadata": {},
   "outputs": [
    {
     "name": "stdout",
     "output_type": "stream",
     "text": [
      "done MIXCR\n",
      "done TRUST4\n"
     ]
    }
   ],
   "source": [
    "# RAS-baseline_TGACCA\n",
    "\n",
    "data16 = data.loc[data['sample'] == 'RAS-baseline_TGACCA']\n",
    "\n",
    "for tool in tools:\n",
    "\n",
    "    compute_frequency(data16, tool, True)"
   ]
  },
  {
   "cell_type": "code",
   "execution_count": 21,
   "metadata": {},
   "outputs": [
    {
     "name": "stdout",
     "output_type": "stream",
     "text": [
      "done MIXCR\n",
      "done TRUST4\n"
     ]
    }
   ],
   "source": [
    "# SRR5233637\n",
    "\n",
    "data17 = data.loc[data['sample'] == 'SRR5233637']\n",
    "\n",
    "for tool in tools:\n",
    "\n",
    "    compute_frequency(data17, tool, True)"
   ]
  },
  {
   "cell_type": "code",
   "execution_count": 22,
   "metadata": {},
   "outputs": [
    {
     "name": "stdout",
     "output_type": "stream",
     "text": [
      "done MIXCR\n",
      "done TRUST4\n"
     ]
    }
   ],
   "source": [
    "# TCGA-CZ-4862\n",
    "\n",
    "data18 = data.loc[data['sample'] == 'TCGA-CZ-4862']\n",
    "\n",
    "for tool in tools:\n",
    "\n",
    "    compute_frequency(data18, tool, True)"
   ]
  },
  {
   "cell_type": "code",
   "execution_count": 23,
   "metadata": {},
   "outputs": [
    {
     "name": "stdout",
     "output_type": "stream",
     "text": [
      "done MIXCR\n",
      "done TRUST4\n"
     ]
    }
   ],
   "source": [
    "# TCGA-CZ-5463\n",
    "\n",
    "data19 = data.loc[data['sample'] == 'TCGA-CZ-5463']\n",
    "\n",
    "for tool in tools:\n",
    "\n",
    "    compute_frequency(data19, tool, True)"
   ]
  },
  {
   "cell_type": "code",
   "execution_count": 24,
   "metadata": {},
   "outputs": [
    {
     "name": "stdout",
     "output_type": "stream",
     "text": [
      "done MIXCR\n",
      "done TRUST4\n"
     ]
    }
   ],
   "source": [
    "# TCGA-CZ-5985\n",
    "\n",
    "data20 = data.loc[data['sample'] == 'TCGA-CZ-5985']\n",
    "\n",
    "for tool in tools:\n",
    "\n",
    "    compute_frequency(data20, tool, True)"
   ]
  },
  {
   "cell_type": "code",
   "execution_count": null,
   "metadata": {},
   "outputs": [],
   "source": []
  }
 ],
 "metadata": {
  "kernelspec": {
   "display_name": "Python 3",
   "language": "python",
   "name": "python3"
  },
  "language_info": {
   "codemirror_mode": {
    "name": "ipython",
    "version": 3
   },
   "file_extension": ".py",
   "mimetype": "text/x-python",
   "name": "python",
   "nbconvert_exporter": "python",
   "pygments_lexer": "ipython3",
   "version": "3.7.4"
  }
 },
 "nbformat": 4,
 "nbformat_minor": 2
}
